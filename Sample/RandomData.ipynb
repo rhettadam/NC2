{
 "cells": [
  {
   "cell_type": "code",
   "execution_count": 7,
   "id": "10ba2662-3310-4f9a-bd97-8dca44e8f935",
   "metadata": {
    "tags": []
   },
   "outputs": [
    {
     "name": "stdout",
     "output_type": "stream",
     "text": [
      "Sample NetCDF file created at /home/rhett/Documents/NC2/sample_data.nc\n"
     ]
    },
    {
     "ename": "NameError",
     "evalue": "name 'times' is not defined",
     "output_type": "error",
     "traceback": [
      "\u001b[0;31m---------------------------------------------------------------------------\u001b[0m",
      "\u001b[0;31mNameError\u001b[0m                                 Traceback (most recent call last)",
      "Cell \u001b[0;32mIn[7], line 61\u001b[0m\n\u001b[1;32m     58\u001b[0m create_sample_netcdf(output_path)\n\u001b[1;32m     59\u001b[0m \u001b[38;5;28mprint\u001b[39m(\u001b[38;5;124mf\u001b[39m\u001b[38;5;124m\"\u001b[39m\u001b[38;5;124mSample NetCDF file created at \u001b[39m\u001b[38;5;132;01m{\u001b[39;00moutput_path\u001b[38;5;132;01m}\u001b[39;00m\u001b[38;5;124m\"\u001b[39m)\n\u001b[0;32m---> 61\u001b[0m \u001b[38;5;28mprint\u001b[39m(times)\n",
      "\u001b[0;31mNameError\u001b[0m: name 'times' is not defined"
     ]
    }
   ],
   "source": [
    "import numpy as np\n",
    "import netCDF4 as nc\n",
    "import os\n",
    "\n",
    "def create_sample_netcdf(file_path):\n",
    "    # Define the dimensions\n",
    "    time_dim = 10\n",
    "    depth_dim = 5\n",
    "    lat_dim = 50\n",
    "    lon_dim = 100\n",
    "\n",
    "    # Create the data\n",
    "    times = np.arange(time_dim)\n",
    "    depths = np.linspace(0, 500, depth_dim)\n",
    "    lats = np.linspace(-90, 90, lat_dim)\n",
    "    lons = np.linspace(-180, 180, lon_dim)\n",
    "    data = np.random.rand(time_dim, depth_dim, lat_dim, lon_dim)\n",
    "\n",
    "    # Create a new NetCDF file\n",
    "    dataset = nc.Dataset(file_path, 'w', format='NETCDF4')\n",
    "\n",
    "    # Create dimensions\n",
    "    dataset.createDimension('time', time_dim)\n",
    "    dataset.createDimension('depth', depth_dim)\n",
    "    dataset.createDimension('lat', lat_dim)\n",
    "    dataset.createDimension('lon', lon_dim)\n",
    "\n",
    "    # Create variables\n",
    "    times_var = dataset.createVariable('time', np.float32, ('time',))\n",
    "    depths_var = dataset.createVariable('depth', np.float32, ('depth',))\n",
    "    lats_var = dataset.createVariable('lat', np.float32, ('lat',))\n",
    "    lons_var = dataset.createVariable('lon', np.float32, ('lon',))\n",
    "    data_var = dataset.createVariable('data', np.float32, ('time', 'depth', 'lat', 'lon',))\n",
    "\n",
    "    # Set variable attributes\n",
    "    times_var.units = 'hours since 0001-01-01 00:00:00.0'\n",
    "    times_var.calendar = 'gregorian'\n",
    "    depths_var.units = 'meters'\n",
    "    lats_var.units = 'degrees_north'\n",
    "    lons_var.units = 'degrees_east'\n",
    "\n",
    "    # Write data to variables\n",
    "    times_var[:] = times\n",
    "    depths_var[:] = depths\n",
    "    lats_var[:] = lats\n",
    "    lons_var[:] = lons\n",
    "    data_var[:] = data\n",
    "\n",
    "    # Close the dataset\n",
    "    dataset.close()\n",
    "\n",
    "# Specify the directory and file name\n",
    "output_directory = '/home/rhett/Documents/NC2/'\n",
    "output_file = 'sample_data.nc'\n",
    "output_path = os.path.join(output_directory, output_file)\n",
    "\n",
    "# Create the sample NetCDF file\n",
    "create_sample_netcdf(output_path)\n",
    "print(f\"Sample NetCDF file created at {output_path}\")"
   ]
  },
  {
   "cell_type": "code",
   "execution_count": 5,
   "id": "88d3c5f6-df83-400f-a540-24bf627321d1",
   "metadata": {
    "tags": []
   },
   "outputs": [
    {
     "ename": "NameError",
     "evalue": "name 'times' is not defined",
     "output_type": "error",
     "traceback": [
      "\u001b[0;31m---------------------------------------------------------------------------\u001b[0m",
      "\u001b[0;31mNameError\u001b[0m                                 Traceback (most recent call last)",
      "Cell \u001b[0;32mIn[5], line 1\u001b[0m\n\u001b[0;32m----> 1\u001b[0m \u001b[38;5;28mprint\u001b[39m(times)\n",
      "\u001b[0;31mNameError\u001b[0m: name 'times' is not defined"
     ]
    }
   ],
   "source": []
  },
  {
   "cell_type": "code",
   "execution_count": 11,
   "id": "ff57e14d-4b21-4bd9-b0e3-f5cb306f5f4f",
   "metadata": {
    "tags": []
   },
   "outputs": [
    {
     "ename": "NameError",
     "evalue": "name 'times' is not defined",
     "output_type": "error",
     "traceback": [
      "\u001b[0;31m---------------------------------------------------------------------------\u001b[0m",
      "\u001b[0;31mNameError\u001b[0m                                 Traceback (most recent call last)",
      "Cell \u001b[0;32mIn[11], line 49\u001b[0m\n\u001b[1;32m     46\u001b[0m     lons_var[:] \u001b[38;5;241m=\u001b[39m lons\n\u001b[1;32m     47\u001b[0m     data_var[:] \u001b[38;5;241m=\u001b[39m data\n\u001b[0;32m---> 49\u001b[0m \u001b[38;5;28mprint\u001b[39m(times)\n",
      "\u001b[0;31mNameError\u001b[0m: name 'times' is not defined"
     ]
    }
   ],
   "source": []
  },
  {
   "cell_type": "code",
   "execution_count": 39,
   "id": "6666bafd-4a58-46bb-91c5-d2b754c917d6",
   "metadata": {
    "tags": []
   },
   "outputs": [],
   "source": [
    "import tkinter as tk\n",
    "from tkinter import ttk\n",
    "\n",
    "# Create the main application window\n",
    "root = tk.Tk()\n",
    "root.title(\"Simple Tkinter App\")\n",
    "\n",
    "# Create a ttk.Frame\n",
    "frame = ttk.Frame(root, padding=\"10\")\n",
    "frame.pack(fill=tk.BOTH, expand=True)\n",
    "\n",
    "# Configure the ttk.Style to set the background of the frame\n",
    "style = ttk.Style()\n",
    "style.configure('TFrame', background='black')\n",
    "\n",
    "# Create a tk.Text widget with green text and a dark background\n",
    "text_widget = tk.Text(frame, bg='grey', fg='lime', wrap=tk.WORD, font=(\"Helvetica\", 12))\n",
    "text_widget.pack(fill=tk.BOTH, expand=True)\n",
    "\n",
    "# Insert some sample text\n",
    "text_widget.insert(tk.END, \"This is a sample text with green color on a dark background.\")\n",
    "\n",
    "# Run the application\n",
    "root.mainloop()"
   ]
  },
  {
   "cell_type": "code",
   "execution_count": null,
   "id": "7aaac08c-e7b7-44e8-b57c-eea2afcdcc8f",
   "metadata": {},
   "outputs": [],
   "source": []
  }
 ],
 "metadata": {
  "kernelspec": {
   "display_name": "Python 3 (ipykernel)",
   "language": "python",
   "name": "python3"
  },
  "language_info": {
   "codemirror_mode": {
    "name": "ipython",
    "version": 3
   },
   "file_extension": ".py",
   "mimetype": "text/x-python",
   "name": "python",
   "nbconvert_exporter": "python",
   "pygments_lexer": "ipython3",
   "version": "3.11.7"
  }
 },
 "nbformat": 4,
 "nbformat_minor": 5
}
